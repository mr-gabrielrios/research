{
 "cells": [
  {
   "cell_type": "code",
   "execution_count": 2,
   "id": "b6f86f14-09ff-4fcb-a087-ac9837440af4",
   "metadata": {},
   "outputs": [],
   "source": [
    "import numpy as np"
   ]
  },
  {
   "cell_type": "markdown",
   "id": "eb3725f7-cc63-47e2-9061-53ec7ebab418",
   "metadata": {},
   "source": [
    "Prognostic temperature equation for slab ocean: <br/>\n",
    "$T^{n+1} = T^n + T^*\\Delta t$\n",
    "\n",
    "Normalized temperature adjustment: <br/>\n",
    "$T^* = \\frac{1}{\\rho c_p h} \\frac{Q}{1 - A}$\n",
    "\n",
    "Surface heat flux: <br/>\n",
    "$Q = \\mathrm{R}_\\mathrm{SW} + \\mathrm{R}_\\mathrm{LW} - \\mathrm{SHF} - \\mathrm{LHF} $\n",
    "\n",
    "Adjustment factor: <br/>\n",
    "$A = -\\frac{\\Delta t}{\\rho c_p h} \\left( \\partial_T \\mathrm{SHF} + \\partial_T \\mathrm{LHF} \\right)$\n"
   ]
  },
  {
   "cell_type": "code",
   "execution_count": 8,
   "id": "768200a1-424a-4da6-a18b-0d44a2cecba2",
   "metadata": {},
   "outputs": [
    {
     "name": "stdout",
     "output_type": "stream",
     "text": [
      "Heat capacity of slab ocean: 4.00e+06 at 1 m depth\n"
     ]
    }
   ],
   "source": [
    "c_p = 4000 # J kg^-1 K^-1\n",
    "rho = 1000 # kg m^-3\n",
    "R = 6.371e6 # m\n",
    "dz = 1 # m\n",
    "\n",
    "V_dz = (4/3)*np.pi*((R + dz)**3 - R**3)\n",
    "\n",
    "rho_c_p = c_p * rho * dz\n",
    "\n",
    "print(f'Heat capacity of slab ocean: {rho_c_p:.2e} at {dz} m depth')"
   ]
  },
  {
   "cell_type": "code",
   "execution_count": null,
   "id": "c29b3ae9-aceb-4ad4-b877-1dd8a40de05e",
   "metadata": {},
   "outputs": [],
   "source": []
  }
 ],
 "metadata": {
  "kernelspec": {
   "display_name": "Python 3 (ipykernel)",
   "language": "python",
   "name": "python3"
  },
  "language_info": {
   "codemirror_mode": {
    "name": "ipython",
    "version": 3
   },
   "file_extension": ".py",
   "mimetype": "text/x-python",
   "name": "python",
   "nbconvert_exporter": "python",
   "pygments_lexer": "ipython3",
   "version": "3.12.8"
  }
 },
 "nbformat": 4,
 "nbformat_minor": 5
}

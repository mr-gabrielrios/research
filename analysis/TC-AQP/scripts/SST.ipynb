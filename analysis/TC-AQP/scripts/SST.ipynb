{
 "cells": [
  {
   "cell_type": "markdown",
   "id": "df495f0e-51d1-4ce6-ba31-e84ae4d95e44",
   "metadata": {},
   "source": [
    "### Boundary condition derivation for aquaplanet\n",
    "This notebook derives the surface boundary condition for an aquaplanet. This boundary condition (referred to as sea-surface temperatures, or SSTs) is determined by the seasonal cycle from GFDL-CM2.5 runs, which in an atmosphere-only configuration, are determined by HadISST climatological SSTs."
   ]
  },
  {
   "cell_type": "code",
   "execution_count": 1,
   "id": "fb723246-a0ad-45aa-8fdc-a6b4642ac3e0",
   "metadata": {},
   "outputs": [],
   "source": [
    "''' Import packages. '''\n",
    "# Time packages\n",
    "import calendar, cftime, datetime, time\n",
    "# Numerical analysis packages\n",
    "import numpy as np, random, scipy, numba\n",
    "# Local data storage packages\n",
    "import functools, importlib, os, pickle, collections, sys\n",
    "\n",
    "import pandas as pd, xarray as xr, nc_time_axis\n",
    "xr.set_options(keep_attrs=True)\n",
    "# Visualization tools\n",
    "import cartopy, cartopy.crs as ccrs, matplotlib, matplotlib.pyplot as plt\n",
    "\n",
    "# Local imports\n",
    "sys.path.insert(1, '/projects/GEOCLIM/gr7610/scripts')\n",
    "import derived, utilities, visualization\n",
    "importlib.reload(utilities);\n",
    "importlib.reload(visualization);\n",
    "importlib.reload(derived);"
   ]
  },
  {
   "cell_type": "code",
   "execution_count": 2,
   "id": "a715358f-a758-4604-9e0a-3979b82716ca",
   "metadata": {
    "jupyter": {
     "source_hidden": true
    }
   },
   "outputs": [],
   "source": [
    "def generate_zonal_mean_SST(reference_SST: xr.Dataset,\n",
    "                            processing_mode: str='sst',\n",
    "                            rolling_mean_degrees: int|float=5,\n",
    "                            interp_from_hadisst: bool=True):\n",
    "\n",
    "    assert processing_mode in ['sst', 'ice']\n",
    "\n",
    "    lon = reference_SST.lon.values\n",
    "    lat = reference_SST.lat.values\n",
    "\n",
    "    reference_SST_NEW = reference_SST.copy()\n",
    "\n",
    "    # Interpolate SST from HadISST\n",
    "    hadisst_SST_pathname = '/scratch/gpfs/GEOCLIM/gr7610/tiger3/CM2.5/INPUT/hadisst_sst.clim.1986-2005.zonal_mean.nc'\n",
    "    hadisst_SST = xr.open_dataset(hadisst_SST_pathname)\n",
    "    hadisst_SST['sst'] = hadisst_SST['sst'] - 273.15\n",
    "    hadisst_SST_maxSST = hadisst_SST[processing_mode].max().item()\n",
    "    \n",
    "    hadisst_SST_interp = hadisst_SST.interp(lon=reference_SST_NEW.lon, \n",
    "                                            lat=reference_SST_NEW.lat,\n",
    "                                            kwargs={\"fill_value\": \"extrapolate\"})\n",
    "    \n",
    "    # Create a container with empty data\n",
    "    reference_SST_zonal_rolling_mean_container = np.full(shape=(len(reference_SST.time),\n",
    "                                                                len(reference_SST.lat),\n",
    "                                                                len(reference_SST.lon)), \n",
    "                                                         fill_value=np.nan)\n",
    "    \n",
    "    # Number of degrees to average over, in latitude\n",
    "    n = 5\n",
    "    # Iterate over all time indices\n",
    "    for time_index in range(len(reference_SST.time)):\n",
    "        # Obtain the iterand month\n",
    "        month = reference_SST.isel(time=time_index).time.dt.month.item()\n",
    "        # Handle SST zonal means\n",
    "        if processing_mode == 'sst':\n",
    "            if interp_from_hadisst:\n",
    "                # Get zonal-mean SSTs from HadISST, if chosen (assumes only 12 entries are available)\n",
    "                reference_SST_zonal_mean = hadisst_SST_interp[processing_mode].mean(dim='lon').isel(time=month-1)\n",
    "            else:\n",
    "                # Get zonal-mean SSTs\n",
    "                reference_SST_zonal_mean = reference_SST[processing_mode].mean(dim='lon').isel(time=time_index)\n",
    "            # Apply an n-degree centered rolling mean, w\n",
    "            reference_SST_zonal_rolling_mean = reference_SST_zonal_mean.rolling(lat=(n*2), center=True).mean('lat')\n",
    "            # Backfill null values with original data\n",
    "            reference_SST_zonal_rolling_mean_2D = xr.where(reference_SST_zonal_rolling_mean.isnull(), reference_SST_zonal_mean, reference_SST_zonal_rolling_mean)\n",
    "            # Append to the container\n",
    "            reference_SST_zonal_rolling_mean_container[time_index, :, :] = np.repeat(reference_SST_zonal_rolling_mean_2D.values[np.newaxis, :], len(lon), axis=0).T\n",
    "        # Handle ice cover and set to 0\n",
    "        else:\n",
    "            reference_SST_zonal_rolling_mean_container = np.full(shape=(len(reference_SST.time),\n",
    "                                                                len(reference_SST.lat),\n",
    "                                                                len(reference_SST.lon)), \n",
    "                                                         fill_value=0.0)\n",
    "            \n",
    "    reference_SST_zonal_mean = xr.DataArray(data=reference_SST_zonal_rolling_mean_container * hadisst_SST_maxSST / np.max(reference_SST_zonal_rolling_mean_container),\n",
    "                                            coords={'time': (['time'], reference_SST.time.data),\n",
    "                                                    'lat': (['lat'], reference_SST.lat.data),\n",
    "                                                    'lon': (['lon'], reference_SST.lon.data)},\n",
    "                                            dims=['time', 'lat', 'lon'])\n",
    "\n",
    "    reference_SST_NEW[processing_mode] = reference_SST_zonal_mean\n",
    "\n",
    "    # Copy the attributes\n",
    "    reference_SST_NEW.attrs = hadisst_SST.attrs\n",
    "\n",
    "    return reference_SST_NEW"
   ]
  },
  {
   "cell_type": "code",
   "execution_count": 45,
   "id": "90f679f3-5cbd-4970-ac53-85bf8dc09182",
   "metadata": {},
   "outputs": [],
   "source": [
    "def load_model_SST(model_name: str,\n",
    "                   nx: int=360,\n",
    "                   ny: int=180,\n",
    "                   processing_mode: str='sst',\n",
    "                   save_file: bool=False) -> xr.Dataset:\n",
    "\n",
    "\n",
    "    ''' Function to load SSTs and save them to a file, if chosen. '''\n",
    "    \n",
    "    # Load sea-surface temperature data ('sst') at monthly frequency\n",
    "    reference_pathname_monthly = f'/scratch/gpfs/GEOCLIM/gr7610/tiger3/util/input_data_AQP/input_v2025/amip1_{processing_mode}.data.nc'\n",
    "    reference_SST = xr.open_dataset(reference_pathname_monthly).load()\n",
    "    \n",
    "\n",
    "    # Get zonal-mean SSTs\n",
    "    reference_SST_zonal_mean = generate_zonal_mean_SST(reference_SST, processing_mode=processing_mode, interp_from_hadisst=True)\n",
    "    reference_SST_zonal_mean = reference_SST_zonal_mean.interp(lon=np.arange(0, 360, 1, dtype=float), \n",
    "                                                               lat=np.arange(-90, 90, 1, dtype=float),\n",
    "                                                               kwargs={\"fill_value\": \"extrapolate\"})\n",
    "    \n",
    "    # Define the reference pathname for saving the file\n",
    "    pathname = f'/scratch/gpfs/GEOCLIM/gr7610/tiger3/{model_name}/INPUT/amip1_{processing_mode}.clim.zonal_mean.nc'\n",
    "\n",
    "    # Define encoding for netCDF files for use in GFDL GCMs\n",
    "    nc_encoding = {'time': {'dtype': 'double', '_FillValue': None, \n",
    "                            'calendar': 'gregorian'},\n",
    "                   'lon': {'_FillValue': None}, 'lat': {'_FillValue': None},\n",
    "                   processing_mode: {'dtype': 'float32', '_FillValue': None}}\n",
    "    \n",
    "    if save_file:\n",
    "        reference_SST_zonal_mean.to_netcdf(pathname,\n",
    "                                           encoding=nc_encoding,\n",
    "                                           unlimited_dims='time')\n",
    "        print(f'File saved to {pathname}!')\n",
    "\n",
    "    return reference_SST_zonal_mean"
   ]
  },
  {
   "cell_type": "code",
   "execution_count": 46,
   "id": "3dfab8a1-aa4b-413b-9b82-262d3b1791dd",
   "metadata": {},
   "outputs": [],
   "source": [
    "def compare_AGCM_OBS_SST(min_SST: int|float|None=-2,\n",
    "                         max_SST: int|float|None=None,\n",
    "                         period: int|float=1.25,\n",
    "                         power: int=2,\n",
    "                         latitude_of_max_SST: int|float=15):\n",
    "\n",
    "    ''' Compare observational and aquaplanet meridional SST profiles. '''\n",
    "\n",
    "    ''' Get SST parameters. '''\n",
    "    # Get zonal mean SST\n",
    "    reference_SST_zonal_mean = load_model_SST()['sst'].mean(dim='lon')\n",
    "    # Get maximum SST by time interval\n",
    "    reference_SST_min = reference_SST_zonal_mean.where(reference_SST_zonal_mean == reference_SST_zonal_mean.min(dim='lat')).dropna(dim='lat', how='all').max(dim='lat')\n",
    "    reference_SST_max = reference_SST_zonal_mean.where(reference_SST_zonal_mean == reference_SST_zonal_mean.max(dim='lat')).dropna(dim='lat', how='all').max(dim='lat')\n",
    "    # Get latitude of maximum SST by time interval\n",
    "    reference_SST_max_latitude = reference_SST_zonal_mean['lat'].where(reference_SST_zonal_mean == reference_SST_zonal_mean.max(dim='lat')).dropna(dim='lat', how='all').max(dim='lat')\n",
    "\n",
    "    ''' Generate aquaplanet SST zonal mean distribution. '''\n",
    "    min_SST = min_SST\n",
    "    max_SST = reference_SST_max.max().item() if max_SST is None else max_SST\n",
    "    latitude_offset = latitude_of_max_SST * np.pi/180 # C\n",
    "    \n",
    "    roots = [(np.pi/2 / period + latitude_offset) , (-np.pi/2 / period + latitude_offset)]\n",
    "    \n",
    "    minimum_latitude, maximum_latitude = min(roots), max(roots)\n",
    "    [print(f'Root: {(root * 180 / np.pi):.3f}') for root in roots]\n",
    "    \n",
    "    func = lambda x, a, b, c, period, latitude_offset, minimum_latitude, maximum_latitude: np.where((x >= minimum_latitude) & \n",
    "                                                                                                    (x <= maximum_latitude),\n",
    "                                                                                                    (a - b) * (1 - np.sin(period * x - period * latitude_offset)**c) + b,\n",
    "                                                                                                    min_SST) # base function\n",
    "    arr_x = np.deg2rad(reference_SST_zonal_mean.lat) # latitude range array\n",
    "    \n",
    "    ''' Plot meridional SST distribution as a function of month. '''\n",
    "    \n",
    "    # Get colormap and discrete colors for experiments\n",
    "    line_colormap_name = 'twilight'\n",
    "    line_colormap = matplotlib.colormaps[line_colormap_name]\n",
    "    line_colormap = line_colormap(np.linspace(0, 1, len(reference_SST_zonal_mean.time)))\n",
    "\n",
    "    # Initialize plot\n",
    "    fig, ax = plt.subplots(figsize=(5, 2), dpi=144)\n",
    "    \n",
    "    ax.axvline(0, c='k', lw=1)\n",
    "\n",
    "    # Plot the monthly-mean zonal-mean SSTs\n",
    "    for month in range(len(reference_SST_zonal_mean.time)):\n",
    "        ax.plot(reference_SST_zonal_mean.lat, \n",
    "                reference_SST_zonal_mean.isel(time=month), \n",
    "                lw=0.5, ls='--', c=(0.75, 0.75, 1))\n",
    "        \n",
    "    # Plot the idealized SST\n",
    "    ax.plot(reference_SST_zonal_mean.lat, \n",
    "            func(reference_SST_zonal_mean.lat * np.pi/180, max_SST, min_SST, power, \n",
    "                 period, latitude_offset, minimum_latitude, maximum_latitude),\n",
    "            lw=2, c='k')\n",
    "    \n",
    "    ax.set_title(f'SST distribution, peak offset of {(latitude_offset * 180 / np.pi):.2f}$\\degree$', \n",
    "                 fontsize=9, ha='left', loc='left')\n",
    "    ax.set_xticks(np.linspace(-90, 90, 13))\n",
    "    \n",
    "    ax.grid(ls='--')\n",
    "    \n",
    "    ax.set_xlim([-90, 90]);\n",
    "    ax.set_xlabel('Latitude')\n",
    "    ax.set_ylabel('SST [deg C]')\n",
    "\n",
    "    return reference_SST_max"
   ]
  },
  {
   "cell_type": "code",
   "execution_count": 47,
   "id": "50a74ddd-4ece-46e2-b0dd-29534745fc8b",
   "metadata": {},
   "outputs": [
    {
     "name": "stdout",
     "output_type": "stream",
     "text": [
      "File saved to /scratch/gpfs/GEOCLIM/gr7610/tiger3/HIRAM-AQP/INPUT/amip1_sst.clim.zonal_mean.nc!\n"
     ]
    }
   ],
   "source": [
    "TMP = load_model_SST(model_name='HIRAM-AQP', save_file=True)"
   ]
  },
  {
   "cell_type": "code",
   "execution_count": 44,
   "id": "d8f78e8a-82ee-4008-90e9-274b5fcfeb04",
   "metadata": {},
   "outputs": [
    {
     "data": {
      "text/plain": [
       "<matplotlib.collections.QuadMesh at 0x1477f29bdf10>"
      ]
     },
     "execution_count": 44,
     "metadata": {},
     "output_type": "execute_result"
    },
    {
     "data": {
      "image/png": "[encoded data removed]",
      "text/plain": [
       "<Figure size 640x480 with 2 Axes>"
      ]
     },
     "metadata": {},
     "output_type": "display_data"
    }
   ],
   "source": [
    "TMP['sst'].isel(time=0).interp(lon=np.arange(0, 360, 1, dtype=float), \n",
    "                               lat=np.arange(-90, 90, 1, dtype=float),\n",
    "                               kwargs={\"fill_value\": \"extrapolate\"}).plot()"
   ]
  },
  {
   "cell_type": "code",
   "execution_count": null,
   "id": "592e92ef-e340-4b91-81e0-ff3a7b3d1d45",
   "metadata": {},
   "outputs": [],
   "source": [
    "reference_SST_max = compare_AGCM_OBS_SST(min_SST=0, \n",
    "                                         max_SST=None, \n",
    "                                         latitude_of_max_SST=0, \n",
    "                                         period=1.25,\n",
    "                                         power=2,)"
   ]
  },
  {
   "cell_type": "code",
   "execution_count": 31,
   "id": "33d9f22b-4ea4-4513-870a-6f83e04eb78e",
   "metadata": {},
   "outputs": [
    {
     "name": "stdout",
     "output_type": "stream",
     "text": [
      "Maximum latitude at 84.000, minimum latitude at -60.000\n"
     ]
    }
   ],
   "source": [
    "step = 0.5\n",
    "lat = np.arange(-90, 90, step)\n",
    "lon = np.arange(0, 360, step)\n",
    "\n",
    "max_SST = reference_SST_max.max().item() # A\n",
    "min_SST = max_SST - 7\n",
    "period = 1.25 # B\n",
    "latitude_offset = 15 * np.pi/180 # C\n",
    "roots = ((np.pi/2 + latitude_offset) / period,\n",
    "         (-np.pi/2 + latitude_offset) / period)\n",
    "\n",
    "minimum_latitude = min(roots)\n",
    "maximum_latitude = max(roots)\n",
    "\n",
    "print(f'Maximum latitude at {(maximum_latitude * 180/np.pi):.3f}, minimum latitude at {(minimum_latitude * 180/np.pi):.3f}')\n",
    "\n",
    "analytic_SST_funcs = {'Control': lambda x, a: np.where((x >= np.pi/3 + latitude_offset) & \n",
    "                                                       (x <= -np.pi/3 + latitude_offset),\n",
    "                                                       a * (1 - np.sin(1.5 * x - latitude_offset)**4),\n",
    "                                                       0),\n",
    "                      'Custom': lambda x, a, b: np.where((x >= minimum_latitude) & \n",
    "                                                         (x <= maximum_latitude),\n",
    "                                                         (a - b) * (1 - np.sin(period * x - latitude_offset)**2) + b,\n",
    "                                                         b)}"
   ]
  },
  {
   "cell_type": "code",
   "execution_count": 32,
   "id": "8a87ad4c-b98a-43d1-b2d4-7b0283d5b9ff",
   "metadata": {},
   "outputs": [
    {
     "data": {
      "text/plain": [
       "Text(0, 0.5, 'Latitude')"
      ]
     },
     "execution_count": 32,
     "metadata": {},
     "output_type": "execute_result"
    },
    {
     "data": {
      "image/png": "[encoded data removed]",
      "text/plain": [
       "<Figure size 700x300 with 1 Axes>"
      ]
     },
     "metadata": {},
     "output_type": "display_data"
    }
   ],
   "source": [
    "# Generate 2D temperature field\n",
    "profile_SST = 'Custom' \n",
    "T = analytic_SST_funcs[profile_SST](lat * np.pi / 180, max_SST, min_SST)\n",
    "distribution_SST_2D = np.repeat(T[np.newaxis, :], len(lon), axis=0).T\n",
    "\n",
    "fig, ax = plt.subplots(figsize=(7, 3))\n",
    "\n",
    "im = ax.pcolormesh(lon, lat, distribution_SST_2D)\n",
    "ax.axhline(0, c='k', lw=0.5)\n",
    "\n",
    "# Plot 1D zonal mean temperature\n",
    "ax_zonal_mean = ax.inset_axes([1, 0, 0.1, 1])\n",
    "ax_zonal_mean.axhline(0, c='k', lw=0.5)\n",
    "ax_zonal_mean.plot(np.mean(distribution_SST_2D, axis=1), lat)\n",
    "ax_zonal_mean.set_yticklabels([])\n",
    "\n",
    "for axes in [ax, ax_zonal_mean]:\n",
    "    axes.set_ylim([-90, 90])\n",
    "\n",
    "cax = ax.inset_axes([1.15, 0, 0.025, 1])\n",
    "colorbar = fig.colorbar(im, cax=cax)\n",
    "\n",
    "ax.set_xlabel('Longitude')\n",
    "ax.set_ylabel('Latitude')"
   ]
  },
  {
   "cell_type": "code",
   "execution_count": null,
   "id": "ca872844-99dd-4b45-a23b-dfe6f88386e2",
   "metadata": {},
   "outputs": [],
   "source": []
  }
 ],
 "metadata": {
  "kernelspec": {
   "display_name": "Python 3 (ipykernel)",
   "language": "python",
   "name": "python3"
  },
  "language_info": {
   "codemirror_mode": {
    "name": "ipython",
    "version": 3
   },
   "file_extension": ".py",
   "mimetype": "text/x-python",
   "name": "python",
   "nbconvert_exporter": "python",
   "pygments_lexer": "ipython3",
   "version": "3.12.8"
  }
 },
 "nbformat": 4,
 "nbformat_minor": 5
}

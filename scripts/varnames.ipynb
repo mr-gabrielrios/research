{
 "cells": [
  {
   "cell_type": "code",
   "execution_count": 7,
   "id": "0c33c8b4-87af-4cff-a6d8-f4ccee6adac8",
   "metadata": {
    "tags": []
   },
   "outputs": [],
   "source": [
    "import csv\n",
    "import datetime\n",
    "import numpy as np\n",
    "import os\n",
    "import pandas as pd\n",
    "import random\n",
    "import scipy\n",
    "import xarray as xr\n",
    "\n",
    "import cartopy.crs as ccrs\n",
    "import matplotlib\n",
    "import matplotlib.pyplot as plt\n",
    "\n",
    "import warnings\n",
    "warnings.filterwarnings(\"ignore\")"
   ]
  },
  {
   "cell_type": "code",
   "execution_count": 5,
   "id": "f6638728-9f81-4fe6-b520-65b3184f06d4",
   "metadata": {
    "tags": []
   },
   "outputs": [],
   "source": [
    "dirs = {'AM2.5_tc_ctrl': '/tigress/wenchang/analysis/TC/AM2.5/CTL1990s_tigercpu_intelmpi_18_540PE/model_out/POSTP',\n",
    "        'AM2.5_tc_ktc2': '/tigress/wenchang/analysis/TC/AM2.5ktc2/CTL1990s_killtc13-13-15_tigercpu_intelmpi_18_540PE/modelout/POSTP',\n",
    "        'HIRAM_tc_ctrl': '/tigress/wenchang/analysis/TC/HIRAM/CTL1990s_v201910_tigercpu_intelmpi_18_540PE/model_out/POSTP',\n",
    "        'HIRAM_tc_ktc2': '/tigress/wenchang/analysis/TC/HIRAMktc2/CTL1990s_v201910_killtc13-13-15_tigercpu_intelmpi_18_540PE/modelout/POSTP'}"
   ]
  },
  {
   "cell_type": "code",
   "execution_count": 9,
   "id": "ea9f19a0-790d-48df-971e-914c1aefbf86",
   "metadata": {
    "tags": []
   },
   "outputs": [],
   "source": [
    "def print_varnames(dirs, atmos_only=True):\n",
    "    ''' \n",
    "    Method to write AM output variables and associated metadata to a Markdown (.md) file. \n",
    "    'atmos_only' is a boolean to specify if only atmosphere-specific output will be evaluated.\n",
    "    '''\n",
    "\n",
    "    # Create list of output file types\n",
    "    output_types = set([f.split('.')[1] \n",
    "                        for k, v in dirs.items() \n",
    "                        for f in os.listdir(v) \n",
    "                        if (f.split('.')[-1] == 'nc') & ('AM2.5' in k)])\n",
    "    # Only select atmospheric output if boolean True\n",
    "    if atmos_only:\n",
    "        output_types = [o for o in output_types if 'atmos' in o]\n",
    "        \n",
    "    # Initialize container for rows\n",
    "    rows = []\n",
    "    # Iterate through each output type to inspect contained variables\n",
    "    for k, v in dirs.items():\n",
    "        for output_type in output_types:\n",
    "            # Get a sample file matching the iterand output type\n",
    "            fname = [os.path.join(v, f) for f in os.listdir(v) if output_type in f][0]\n",
    "            # Pull dataset\n",
    "            ds = xr.open_dataset(fname)\n",
    "            for varname in ds.data_vars.keys():\n",
    "                try:\n",
    "                    units = ds[varname].attrs['units']\n",
    "                except:\n",
    "                    units = ''\n",
    "                row_out = '{0},;{1},;{2},;{3},;{4}'.format(k.split('_')[0], output_type, varname, ds[varname].attrs['long_name'], units)\n",
    "                rows.append(row_out.split(',;'))\n",
    "    # Define a header        \n",
    "    header = ['Model', 'Output file type', 'Variable', 'Variable name', 'Units']\n",
    "    # Write to file\n",
    "    fname = '/projects/GEOCLIM/grios/backup/varnames.csv' if not atmos_only else '/projects/GEOCLIM/grios/backup/varnames_atmos.csv'\n",
    "    with open(fname, 'wt') as f:\n",
    "        writer = csv.writer(f)\n",
    "        writer.writerow(header)\n",
    "        for row in rows:\n",
    "            writer.writerow(row)\n",
    "    \n",
    "    fname_md = fname.split('.')[0] + '.md'\n",
    "    pd.read_csv(fname).to_markdown(fname_md, tablefmt='github', index=False)"
   ]
  },
  {
   "cell_type": "code",
   "execution_count": 11,
   "id": "8ded6d69-99d9-41b0-9cec-e56f3c57ab7b",
   "metadata": {
    "tags": []
   },
   "outputs": [],
   "source": [
    "print_varnames(dirs, atmos_only=False)"
   ]
  }
 ],
 "metadata": {
  "kernelspec": {
   "display_name": "Python 3 (ipykernel)",
   "language": "python",
   "name": "python3"
  },
  "language_info": {
   "codemirror_mode": {
    "name": "ipython",
    "version": 3
   },
   "file_extension": ".py",
   "mimetype": "text/x-python",
   "name": "python",
   "nbconvert_exporter": "python",
   "pygments_lexer": "ipython3",
   "version": "3.11.0"
  }
 },
 "nbformat": 4,
 "nbformat_minor": 5
}

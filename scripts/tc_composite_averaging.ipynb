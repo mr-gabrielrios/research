{
 "cells": [
  {
   "cell_type": "markdown",
   "id": "e5356c3d-cd50-4fd1-bf49-d79e39960293",
   "metadata": {
    "tags": []
   },
   "source": [
    "### TC composite averaging\n",
    "__Objective:__ get composite TC profile to see if there are any systematic differences between a typical model control-run TC and a KillTC-run surviving TC"
   ]
  },
  {
   "cell_type": "markdown",
   "id": "512d6e05-6be4-416e-9a49-0d8dda596a84",
   "metadata": {},
   "source": [
    "#### Imports"
   ]
  },
  {
   "cell_type": "code",
   "execution_count": 140,
   "id": "878b8006-260a-4aca-8fa4-335e345cb372",
   "metadata": {
    "tags": []
   },
   "outputs": [],
   "source": [
    "import cftime\n",
    "import datetime\n",
    "import numpy as np\n",
    "import os\n",
    "import pandas as pd\n",
    "import pickle\n",
    "import random\n",
    "import scipy\n",
    "import time\n",
    "import xarray as xr\n",
    "\n",
    "import cartopy.crs as ccrs\n",
    "import matplotlib\n",
    "import matplotlib.pyplot as plt\n",
    "import matplotlib.patches as mpatches\n",
    "\n",
    "import warnings\n",
    "warnings.filterwarnings(\"ignore\")"
   ]
  },
  {
   "cell_type": "markdown",
   "id": "88bd5f2c-d08e-4545-a959-5fd4dc817dcf",
   "metadata": {},
   "source": [
    "#### Data retrieval"
   ]
  },
  {
   "cell_type": "markdown",
   "id": "e3a11d07-2265-4046-af50-c945ff25a8db",
   "metadata": {},
   "source": [
    "##### Save notebook session"
   ]
  },
  {
   "cell_type": "code",
   "execution_count": 2,
   "id": "8b5828c4-bc0b-414b-bfec-bed47a2279e2",
   "metadata": {
    "tags": []
   },
   "outputs": [],
   "source": [
    "import dill\n",
    "# dill.dump_session('../backup/202303290810.db')\n",
    "dill.load_session('../backup/202303282020.db')  "
   ]
  },
  {
   "cell_type": "markdown",
   "id": "31af73b6-b54b-41ca-968b-83b432c702ab",
   "metadata": {},
   "source": [
    "##### Pickle load"
   ]
  },
  {
   "cell_type": "code",
   "execution_count": 3,
   "id": "5d98797d-a2f7-4bf3-aa88-6fac241c27e7",
   "metadata": {
    "tags": []
   },
   "outputs": [],
   "source": [
    "import pickle\n",
    "with open('../backup/KillTC-storm_tracks.pkl', 'rb') as handle:\n",
    "    storage = pickle.load(handle)"
   ]
  },
  {
   "cell_type": "markdown",
   "id": "50e7015d-6073-45e8-b54b-b5b788b6a7fd",
   "metadata": {},
   "source": [
    "##### Relevant directories to model data"
   ]
  },
  {
   "cell_type": "code",
   "execution_count": 4,
   "id": "10d6cbc2-6977-417f-b725-a547c348a2db",
   "metadata": {
    "tags": []
   },
   "outputs": [],
   "source": [
    "dirs = {'AM2.5_tc_ctrl': '/tigress/wenchang/analysis/TC/AM2.5/CTL1990s_tigercpu_intelmpi_18_540PE/model_out/POSTP',\n",
    "        'AM2.5_tc_ktc2': '/tigress/wenchang/analysis/TC/AM2.5ktc2/CTL1990s_killtc13-13-15_tigercpu_intelmpi_18_540PE/modelout/POSTP',\n",
    "        'HIRAM_tc_ctrl': '/tigress/wenchang/analysis/TC/HIRAM/CTL1990s_v201910_tigercpu_intelmpi_18_540PE/model_out/POSTP',\n",
    "        'HIRAM_tc_ktc2': '/tigress/wenchang/analysis/TC/HIRAMktc2/CTL1990s_v201910_killtc13-13-15_tigercpu_intelmpi_18_540PE/modelout/POSTP'}\n",
    "        \n",
    "        # 'AM2.5_tc_ctrl': '/tigress/wenchang/MODEL_OUT/AM2.5/CTL1990s_tigercpu_intelmpi_18_540PE/analysis_lmh/cyclones_gav_ro110_1C_330k',\n",
    "        # 'AM2.5_tc_ktc2': '/tigress/wenchang/MODEL_OUT/AM2.5ktc/CTL1990s_killtc12_tigercpu_intelmpi_18_540PE/analysis_lmh/cyclones_gav_ro110_1C_330k', \n",
    "        # 'HIRAM_tc_ctrl': '/tigress/wenchang/MODEL_OUT/HIRAM/CTL1990s_v201910_tigercpu_intelmpi_18_540PE/analysis_lmh/cyclones_gav_ro110_2p5C_330k',\n",
    "        # 'HIRAM_tc_ktc2': '/tigress/wenchang/MODEL_OUT/HIRAMktc2/CTL1990s_v201910_killtc13-13-15_tigercpu_intelmpi_18_540PE/analysis_lmh/cyclones_gav_ro110_1C_330k'}"
   ]
  },
  {
   "cell_type": "markdown",
   "id": "4067eacf-bfbf-423a-bdc9-c3331823feca",
   "metadata": {},
   "source": [
    "##### Get storm-specific data"
   ]
  },
  {
   "cell_type": "code",
   "execution_count": 219,
   "id": "e18059fe-f0c4-4a19-ac66-ca82fc992fef",
   "metadata": {
    "tags": []
   },
   "outputs": [],
   "source": [
    "# Define model run and TC type ('TS' for all storms or 'C15w' for hurricanes)\n",
    "experiment_type = 'AM2.5_tc_ktc2'\n",
    "tc_class = 'C15w'\n",
    "\n",
    "# Get TCs that survived the KillTC algorithm\n",
    "storms_data = storage[tc_class][experiment_type].copy()\n",
    "\n",
    "# Define function to parse through Dataframe time string and extract relevant quantities to cftime object\n",
    "to_cftime = lambda x: cftime.datetime(year=int(x[0:4]), month=int(x[4:6]), day=int(x[6:8]), hour=int(x[8:10]), \n",
    "                                      has_year_zero=False)\n",
    "# Convert time strings to cftime objects to match time objects in AM2.5 output files\n",
    "storms_data['time'] = storms_data['time'].apply(to_cftime)\n",
    "\n",
    "# Get times at which storms reach maximum strength for data accessing\n",
    "times = []\n",
    "# For each unique storm, get the time at which storm is at peak strength\n",
    "for storm_id in storms_data['storm_id'].unique():\n",
    "    # Pull storm-specific data\n",
    "    temp = storms_data.loc[storms_data['storm_id'] == storm_id]\n",
    "    # Get timestamp at which peak wind occurs\n",
    "    temp_max_wnd = temp.loc[temp['max_wnd'] == temp['max_wnd'].max()]\n",
    "    # If multiple timestamps share the same maximum wind speed, get the strongest by minimum SLP\n",
    "    if len(temp_max_wnd) > 1:\n",
    "        temp_max_wnd = temp_max_wnd.loc[temp_max_wnd['slp'] == temp_max_wnd['slp'].min()]\n",
    "    # Extract time\n",
    "    temp_time = temp_max_wnd.time.values[0]\n",
    "    # Create datetime object\n",
    "    temp_time = datetime.datetime(year=temp_time.year, month=temp_time.month, day=temp_time.day, hour=temp_time.hour)\n",
    "    # Append timestamp to list for future concatenation\n",
    "    times.append(temp_time)\n",
    "\n",
    "# Container list for Datasets\n",
    "ds = []\n",
    "output_type = 'atmos_4xdaily'\n",
    "# Iterate by year, since files are produced by year\n",
    "for year, v in pd.DataFrame(times, columns=['date']).set_index('date').groupby(pd.Grouper(freq='1Y')):\n",
    "    # If there are any recorded storms in thay year, pull them\n",
    "    if len(v.index) > 0:\n",
    "        # Generate cftime objects to allow for indexing from the model output\n",
    "        sel_dates = [cftime.DatetimeNoLeap(year=date.year-1900, month=date.month, day=date.day, hour=date.hour) for date in v.index]\n",
    "        # Get N random storm per year if more than 1 in a given year\n",
    "        threshold = 1\n",
    "        if len(v.index) > threshold:\n",
    "            sel_dates = random.sample(sel_dates, threshold)\n",
    "        # Get data for the iterand year\n",
    "        temp_ds = pull(experiment_type, output_type, year=year.year, mode='other')\n",
    "        # If not None, grab the corresponding storm dates from that year\n",
    "        if temp_ds:\n",
    "            try:\n",
    "                temp_ds = temp_ds.sel(time=sel_dates)\n",
    "            except:\n",
    "                continue\n",
    "    # Append to container list\n",
    "    ds.append(temp_ds)\n",
    "    # Override to prevent long runtimes\n",
    "    if year.year > 2002:\n",
    "        break\n",
    "# Remove None values from the list\n",
    "ds = [x for x in ds if x is not None]\n",
    "# Concatenate over the time dimension\n",
    "ds = xr.concat(ds, dim='time')"
   ]
  },
  {
   "cell_type": "code",
   "execution_count": 12,
   "id": "03f5c8ac-42ef-4945-b343-d488eca8b249",
   "metadata": {
    "tags": []
   },
   "outputs": [],
   "source": [
    "ds_ctrl = ds.copy()\n",
    "storms_data_ctrl = storms_data.copy()"
   ]
  },
  {
   "cell_type": "code",
   "execution_count": 6,
   "id": "bc912ee9-df91-4894-9c3c-0953fea7155d",
   "metadata": {
    "tags": []
   },
   "outputs": [],
   "source": [
    "ds_hiram_ctrl = ds.copy()\n",
    "storms_data_hiram_ctrl = storms_data.copy()"
   ]
  },
  {
   "cell_type": "code",
   "execution_count": 14,
   "id": "d4ce4110-33a3-4f83-99ac-1e2682731f32",
   "metadata": {
    "tags": []
   },
   "outputs": [],
   "source": [
    "ds_ktc = ds.copy()\n",
    "storms_data_ktc = storms_data.copy()"
   ]
  },
  {
   "cell_type": "code",
   "execution_count": 9,
   "id": "0d388ead-6761-4559-93d8-ead2fe7cb59b",
   "metadata": {
    "tags": []
   },
   "outputs": [],
   "source": [
    "ds_hiram_ktc = ds.copy()\n",
    "storms_data_hiram_ktc = storms_data.copy() "
   ]
  },
  {
   "cell_type": "code",
   "execution_count": 133,
   "id": "db7f2783-3255-4532-97ce-77604e1f5508",
   "metadata": {
    "tags": []
   },
   "outputs": [
    {
     "data": {
      "image/png": "[encoded data removed]",
      "text/plain": [
       "<Figure size 400x325 with 2 Axes>"
      ]
     },
     "metadata": {},
     "output_type": "display_data"
    }
   ],
   "source": [
    "# Get storm data at corresponding times\n",
    "param = 'h500'\n",
    "output_attr = 'std'\n",
    "analysis_model = 'HIRAM_tc_ctrl'\n",
    "comparison = False\n",
    "comparison_datasets = ['HIRAM_tc_ctrl', 'HIRAM_tc_ktc2']\n",
    "\n",
    "ds_list = {'HIRAM_tc_ctrl': {'ds': ds_hiram_ctrl, 'pd': storms_data_hiram_ctrl},\n",
    "           'HIRAM_tc_ktc2': {'ds': ds_hiram_ktc, 'pd': storms_data_hiram_ktc}}\n",
    "analysis_ds = {k: [] for k in ds_list.keys()}\n",
    "\n",
    "pd_out = []\n",
    "\n",
    "for iter_name, iter_values in ds_list.items():\n",
    "    storms = []\n",
    "    iter_ds, storms_data = iter_values['ds'], iter_values['pd']\n",
    "    for time in iter_ds.time.values:\n",
    "        time = cftime.datetime(year=time.year+1900, month=time.month, \n",
    "                                     day=time.day, hour=time.hour)\n",
    "        storms.append(storms_data.loc[storms_data['time'] == time])\n",
    "    # Iterate through storm data to filter xArray data for each one\n",
    "    storm_composite = []\n",
    "    # Define spatial bounding box around each TC (in degrees)\n",
    "    box = 15\n",
    "    for i, storm in enumerate(storms):\n",
    "        # Only select the first storm of each year\n",
    "        storm = storm.iloc[0]\n",
    "        \n",
    "        storm_time = cftime.DatetimeNoLeap(year=storm.time.year-1900, \n",
    "                                           month=storm.time.month, \n",
    "                                           day=storm.time.day, \n",
    "                                           hour=storm.time.hour, \n",
    "                                           has_year_zero=True)\n",
    "\n",
    "        iter_ds['U'] = np.sqrt(iter_ds['u_ref']**2 + iter_ds['v_ref']**2)\n",
    "        \n",
    "        temp_ds = iter_ds.sel(grid_xt=np.arange(storm.lon-box, storm.lon+box), \n",
    "                         grid_yt=np.arange(storm.lat-box, storm.lat+box), \n",
    "                         method='nearest')\n",
    "\n",
    "        try:\n",
    "            temp_np = temp_ds.sel(time=storm_time).isel(time=0)[param].values\n",
    "            radius = radius_estimate(temp_ds.sel(time=storm_time).isel(time=0), storm, box)\n",
    "        except:\n",
    "            temp_np = temp_ds.sel(time=storm_time)[param].values\n",
    "            radius = radius_estimate(temp_ds.sel(time=storm_time), storm, box)\n",
    "\n",
    "        if i > 0:\n",
    "            if temp_np.shape == storm_composite[0].shape:\n",
    "                storm_composite.append(temp_np)\n",
    "        else:\n",
    "            storm_composite.append(temp_np)\n",
    "            \n",
    "        storm['radius'] = radius\n",
    "        pd_out.append(storm)\n",
    "\n",
    "    if output_attr == 'mean':\n",
    "        storm_output = np.nanmean(np.dstack(storm_composite), axis=2)\n",
    "    if output_attr == 'std':\n",
    "        storm_output = np.nanstd(np.dstack(storm_composite), axis=2)\n",
    "        \n",
    "    analysis_ds[iter_name] = storm_output\n",
    "    \n",
    "pd_out = pd.concat(pd_out, axis=1).reset_index().T\n",
    "header = pd_out.iloc[0]\n",
    "pd_out = pd_out[1:]\n",
    "pd_out.columns = header\n",
    "                      \n",
    "if comparison:\n",
    "    ds_out = analysis_ds[comparison_datasets[1]] - analysis_ds[comparison_datasets[0]]\n",
    "else:\n",
    "    ds_out = analysis_ds[analysis_model]\n",
    "\n",
    "''' Plotting. '''\n",
    "\n",
    "fig = plt.figure(figsize=(4, 3.25), constrained_layout=True)\n",
    "gs = fig.add_gridspec(ncols=2, width_ratios=[0.97, 0.03], wspace=0)\n",
    "ax_im = fig.add_subplot(gs[0, 0])\n",
    "\n",
    "levels = 16\n",
    "\n",
    "vmin, vmax = np.nanmin(ds_out), np.nanmax(ds_out)\n",
    "\n",
    "if comparison:\n",
    "    if vmin < 0 and vmax > 0:\n",
    "        norm = matplotlib.colors.CenteredNorm(vcenter=0)\n",
    "        cmap = 'RdBu_r'\n",
    "    elif vmin < 0 and vmax < 0:\n",
    "        norm = matplotlib.colors.Normalize(vmin=vmin, vmax=vmax)\n",
    "        cmap = 'Blues_r'\n",
    "    else:\n",
    "        norm = matplotlib.colors.Normalize(vmin=vmin, vmax=vmax)\n",
    "        cmap = 'Reds'\n",
    "else:\n",
    "    norm = matplotlib.colors.Normalize(vmin=vmin, vmax=vmax)\n",
    "    cmap = 'viridis'\n",
    "\n",
    "im = ax_im.contourf(ds_out, levels=levels, norm=norm, cmap=cmap)\n",
    "# im = ax_im.pcolormesh(ds_out, norm=norm, cmap=cmap)\n",
    "ax_im.set_aspect('equal')\n",
    "\n",
    "if comparison:\n",
    "    title_str = '{0} - {1} ({0})'.format(comparison_datasets[1], comparison_datasets[0])\n",
    "else:\n",
    "    title_str = '{0} ({1})'.format(analysis_model, output_attr)\n",
    "ax_im.set_title(title_str, y=1.05)\n",
    "\n",
    "ax_cb = fig.add_subplot(gs[0, 1])\n",
    "cb = fig.colorbar(matplotlib.cm.ScalarMappable(norm=norm, cmap=cmap), cax=ax_cb)\n",
    "cb_label = '{0} [{1}]'.format(temp_ds.sel(time=storm_time)[param].attrs['long_name'], \n",
    "                              temp_ds.sel(time=storm_time)[param].attrs['units'])\n",
    "cb.set_label(cb_label, rotation=270, labelpad=20)"
   ]
  },
  {
   "cell_type": "markdown",
   "id": "59d6b819-0059-4972-ace3-30f4a7c39abf",
   "metadata": {},
   "source": [
    "#### Methods"
   ]
  },
  {
   "cell_type": "code",
   "execution_count": 131,
   "id": "f8667128-ef98-4687-a96e-345fe5dbfc87",
   "metadata": {
    "tags": []
   },
   "outputs": [],
   "source": [
    "def radius_estimate(ds, storm, box, overlay_check=False):\n",
    "    \n",
    "    '''\n",
    "    Algorithm to estimate the radius of a TC based on filters set below.\n",
    "    Returns a radius in meters.\n",
    "    \n",
    "    Note to self: this works well with filters based on standard deviations from the mean. Before you start fucking around, save the current methodology.\n",
    "    '''\n",
    "    \n",
    "    if 'U' not in ds.data_vars.keys():\n",
    "        ds['U'] = np.sqrt(ds['u_ref']**2 + ds['v_ref']**2)\n",
    "    \n",
    "    # Define number of standard deviations to analyze\n",
    "    sigma = 1\n",
    "    # Relative thresholds (mean + standard deviation)\n",
    "    filters = {'vort850': [ds['vort850'] > (ds['vort850'].mean() + sigma*ds['vort850'].std()),\n",
    "                           ds['vort850'] < (ds['vort850'].mean() - sigma*ds['vort850'].std())],\n",
    "               'tm': ds['tm'] > (ds['tm'].mean() + sigma*ds['tm'].std()),\n",
    "               'slp': ds['slp'] < (ds['slp'].mean() - sigma*ds['slp'].std()),\n",
    "               'U': ds['U'] > (ds['U'].mean() + 2*sigma*ds['U'].std())}\n",
    "    \n",
    "    # Exact magnitude thresholds\n",
    "    # filters = {'vort850': [ds['vort850'] > (ds['vort850'].mean() + sigma*ds['vort850'].std()),\n",
    "    #                        ds['vort850'] < (ds['vort850'].mean() - sigma*ds['vort850'].std())],\n",
    "    #            'tm': ds['tm'] > (ds['tm'].mean() + sigma*ds['tm'].std()),\n",
    "    #            'slp': ds['slp'] < 1000,\n",
    "    #            'U': ds['U'] > 15}\n",
    "        \n",
    "    conditional = (filters['vort850'][0] | filters['vort850'][1]) & filters['slp'] & filters['U'] & filters['tm']\n",
    "    \n",
    "    try:\n",
    "        radius_ds = ds.where(conditional).sel(grid_xt=np.arange(storm.lon-box, storm.lon+box), \n",
    "                                              grid_yt=np.arange(storm.lat-box, storm.lat+box),\n",
    "                                              method='nearest')\n",
    "        \n",
    "        ds_np = radius_ds['u_ref'].values\n",
    "        crop_x, crop_x_idx = ds_np[~np.all(np.isnan(ds_np), axis=1), :], ~np.all(np.isnan(ds_np), axis=1)\n",
    "        crop_y, crop_y_idx = crop_x[:, ~np.all(np.isnan(crop_x), axis=0)], ~np.all(np.isnan(crop_x), axis=0)\n",
    "        arr = np.ma.masked_values(ds_np, np.nan)\n",
    "        \n",
    "        if crop_y.shape != (0, 0):\n",
    "\n",
    "            lons = np.min(radius_ds.grid_xt.values[crop_x_idx]), np.max(radius_ds.grid_xt.values[crop_x_idx])\n",
    "            lats = np.min(radius_ds.grid_yt.values[crop_y_idx]), np.max(radius_ds.grid_yt.values[crop_y_idx])\n",
    "            coords = [lons[0], lats[0]], [lons[1], lats[1]]\n",
    "            # Derive radius from coordinate pairs (divide by 2, as diameter is obtained)\n",
    "            radius = coords_to_dist(coords[0], coords[1])/2e3\n",
    "            \n",
    "            # Overlay the storm size algorithm output on maps of the storms \n",
    "            if overlay_check:\n",
    "                fig, ax = plt.subplots(subplot_kw={'projection': ccrs.PlateCarree()})\n",
    "                ax.coastlines()\n",
    "\n",
    "                ds['U'].plot(ax=ax)\n",
    "                ax.pcolormesh(radius_ds.grid_xt, radius_ds.grid_yt, arr, \n",
    "                              zorder=9, cmap='Reds', transform=ccrs.PlateCarree())\n",
    "\n",
    "                ax.set_extent([storm.lon-box, storm.lon+box, storm.lat-box, storm.lat+box])\n",
    "                ax.set_title('radius: {0:.2f} km'.format(radius))\n",
    "                \n",
    "            return radius\n",
    "\n",
    "    except:\n",
    "        return np.nan"
   ]
  },
  {
   "cell_type": "code",
   "execution_count": 94,
   "id": "6f19de8f-6ebd-4e14-935c-fe502b71b3c3",
   "metadata": {
    "tags": []
   },
   "outputs": [],
   "source": [
    "def coords_to_dist(a, b):\n",
    "    ''' Convert coordinates to distance in meters. '''\n",
    "    \n",
    "    R = 6371e3\n",
    "    \n",
    "    lon_a, lat_a = np.array(a)*np.pi/180\n",
    "    lon_b, lat_b = np.array(b)*np.pi/180\n",
    "    \n",
    "    dlon, dlat = lon_b - lon_a, lat_b - lat_a\n",
    "    \n",
    "    a = np.sin(dlat/2)**2 + np.cos(lat_a)*np.cos(lat_b)*np.sin(dlon/2)**2    \n",
    "    c = 2*np.arctan2(np.sqrt(a), np.sqrt(1-a))\n",
    "    \n",
    "    distance = R*c\n",
    "    \n",
    "    return distance"
   ]
  },
  {
   "cell_type": "code",
   "execution_count": 25,
   "id": "63fcda6f-ffa9-47d1-9654-220d2be4f548",
   "metadata": {
    "tags": []
   },
   "outputs": [],
   "source": [
    "def pull(experiment, output_type, year=None, mode='tc'):\n",
    "    ''' Method to read data for given parameters. '''\n",
    "    \n",
    "    # Retrieve directory name for corresponding model and experiment\n",
    "    dirname = dirs[experiment]\n",
    "    # Get filenames for corresponding files (0 index used for test runs)\n",
    "    if mode == 'tc':\n",
    "        fname = sorted([os.path.join(dirname, file) for file in os.listdir(dirname) \n",
    "                        if (output_type == file.split('.')[0]) and ('.nc' in file) \n",
    "                        and ('yearly' not in file) and ('all' not in file)])\n",
    "        print(fname)\n",
    "    else:\n",
    "        if year:\n",
    "            filename = '{0:04d}0101.{1}.nc'.format(year-1900, output_type)\n",
    "            try:\n",
    "                fname = os.path.join(dirname, filename)\n",
    "                # Retrieve data\n",
    "                data = xr.open_dataset(fname)\n",
    "            except:\n",
    "                return None\n",
    "        else:\n",
    "            fname = sorted([os.path.join(dirname, file) for file in os.listdir(dirname) \n",
    "                            if (output_type == file.split('.')[1]) and ('.nc' in file)])[48:50]\n",
    "            # Retrieve data\n",
    "            data = xr.open_mfdataset(fname)\n",
    "    \n",
    "    return data"
   ]
  }
 ],
 "metadata": {
  "kernelspec": {
   "display_name": "Python 3 (ipykernel)",
   "language": "python",
   "name": "python3"
  },
  "language_info": {
   "codemirror_mode": {
    "name": "ipython",
    "version": 3
   },
   "file_extension": ".py",
   "mimetype": "text/x-python",
   "name": "python",
   "nbconvert_exporter": "python",
   "pygments_lexer": "ipython3",
   "version": "3.11.0"
  }
 },
 "nbformat": 4,
 "nbformat_minor": 5
}
